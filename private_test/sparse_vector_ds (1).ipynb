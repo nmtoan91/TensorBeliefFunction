{
  "nbformat": 4,
  "nbformat_minor": 0,
  "metadata": {
    "colab": {
      "provenance": []
    },
    "kernelspec": {
      "name": "python3",
      "display_name": "Python 3"
    },
    "language_info": {
      "name": "python"
    }
  },
  "cells": [
    {
      "cell_type": "code",
      "execution_count": 3,
      "metadata": {
        "id": "eTAj9rKgOqqv"
      },
      "outputs": [],
      "source": [
        "\"\"\"\n",
        "This notebook is a demo of the sparse operators for the CNN DST\n",
        "Assuming that each sparse vector has the maximum lenght of 2**N (given N as the number of singletons)\n",
        "\"\"\"\n",
        "# assume N = 5\n",
        "a = {\n",
        "    'indice' : [0,1,2,3,4,8,9,10,13,15],\n",
        "    'value' : [3,4,5,1,2,3,10,12,3,14]\n",
        "}"
      ]
    },
    {
      "cell_type": "code",
      "source": [
        "\"\"\"\n",
        "Get even index values of the sparse vector\n",
        "\"\"\"\n",
        "def get_even_index(sparse_vector):\n",
        "  res = {\n",
        "      'indice' : [],\n",
        "      'value' : []\n",
        "  }\n",
        "  for i in range(len(sparse_vector['indice'])):\n",
        "    if sparse_vector['indice'][i] % 2 == 0:\n",
        "      res['indice'].append(int(sparse_vector['indice'][i]/2))\n",
        "      res['value'].append(sparse_vector['value'][i])\n",
        "  return res"
      ],
      "metadata": {
        "id": "YH-fuEhDP4CJ"
      },
      "execution_count": 4,
      "outputs": []
    },
    {
      "cell_type": "code",
      "source": [
        "\"\"\"\n",
        "Get odd index values of the sparse vector\n",
        "\"\"\"\n",
        "def get_odd_index(sparse_vector):\n",
        "  res = {\n",
        "      'indice' : [],\n",
        "      'value' : []\n",
        "  }\n",
        "  for i in range(len(sparse_vector['indice'])):\n",
        "    if sparse_vector['indice'][i] % 2 == 1:\n",
        "      res['indice'].append(int((sparse_vector['indice'][i]-1)/2))\n",
        "      res['value'].append(sparse_vector['value'][i])\n",
        "  return res"
      ],
      "metadata": {
        "id": "Q2DjfASSQqd7"
      },
      "execution_count": 6,
      "outputs": []
    },
    {
      "cell_type": "code",
      "source": [
        "def sum_sparse_vectors(a,b):\n",
        "    c = {\n",
        "        'indice':[],\n",
        "        'value':[]\n",
        "    }\n",
        "    i = 0\n",
        "    j = 0\n",
        "    while i < len(a['indice']) or j < len(b['indice']):\n",
        "        if i < len(a['indice']) and j < len(b['indice']):\n",
        "          if a['indice'][i] == b['indice'][j]:\n",
        "              c['indice'].append(a['indice'][i])\n",
        "              c['value'].append(a['value'][i] + b['value'][j])\n",
        "              i += 1\n",
        "              j += 1\n",
        "          elif a['indice'][i] < b['indice'][j]:\n",
        "              c['indice'].append(a['indice'][i])\n",
        "              c['value'].append(a['value'][i])\n",
        "              i += 1\n",
        "          else:\n",
        "              c['indice'].append(b['indice'][j])\n",
        "              c['value'].append(b['value'][j])\n",
        "              j += 1\n",
        "        elif i < len(a['indice']):\n",
        "            c['indice'].append(a['indice'][i])\n",
        "            c['value'].append(a['value'][i])\n",
        "            i += 1\n",
        "        else:\n",
        "            c['indice'].append(b['indice'][j])\n",
        "            c['value'].append(b['value'][j])\n",
        "            j += 1\n",
        "    return c"
      ],
      "metadata": {
        "id": "vD8jN0ScR7bC"
      },
      "execution_count": 8,
      "outputs": []
    },
    {
      "cell_type": "code",
      "source": [
        "def minus_sparse_vectors(a, b):\n",
        "    c = {\n",
        "        'indice': [],\n",
        "        'value': []\n",
        "    }\n",
        "    i = 0\n",
        "    j = 0\n",
        "    while i < len(a['indice']) or j < len(b['indice']):\n",
        "        if i < len(a['indice']) and j < len(b['indice']):\n",
        "            if a['indice'][i] == b['indice'][j]:\n",
        "                c['indice'].append(a['indice'][i])\n",
        "                c['value'].append(a['value'][i] - b['value'][j])\n",
        "                i += 1\n",
        "                j += 1\n",
        "            elif a['indice'][i] < b['indice'][j]:\n",
        "                c['indice'].append(a['indice'][i])\n",
        "                c['value'].append(a['value'][i])\n",
        "                i += 1\n",
        "            else:\n",
        "                c['indice'].append(b['indice'][j])\n",
        "                c['value'].append(-b['value'][j])  # Subtract b's value\n",
        "                j += 1\n",
        "        elif i < len(a['indice']):\n",
        "            c['indice'].append(a['indice'][i])\n",
        "            c['value'].append(a['value'][i])\n",
        "            i += 1\n",
        "        else:\n",
        "            c['indice'].append(b['indice'][j])\n",
        "            c['value'].append(-b['value'][j])  # Subtract b's value\n",
        "            j += 1\n",
        "    return c"
      ],
      "metadata": {
        "id": "GLtxBTKuSOLu"
      },
      "execution_count": 11,
      "outputs": []
    },
    {
      "cell_type": "code",
      "source": [
        "even_vector = get_even_index(a)\n",
        "ood_vector = get_odd_index(a)\n",
        "sum_vector = sum_sparse_vectors(even_vector, ood_vector )\n",
        "minus_vector = minus_sparse_vectors(even_vector, ood_vector )"
      ],
      "metadata": {
        "id": "9kHNqaI2SAdR"
      },
      "execution_count": 12,
      "outputs": []
    },
    {
      "cell_type": "code",
      "source": [
        "print('Vector a: ', a)\n",
        "print('Even Vector : ', even_vector)\n",
        "print('Odd Vector : ', ood_vector)\n",
        "print('Sum Vector : ', sum_vector)\n",
        "print('Minus Vector : ', minus_vector)\n"
      ],
      "metadata": {
        "colab": {
          "base_uri": "https://localhost:8080/"
        },
        "id": "EQ5cD6UNSu52",
        "outputId": "8fddec72-7f6f-4b62-aba5-8a1820fdc296"
      },
      "execution_count": 13,
      "outputs": [
        {
          "output_type": "stream",
          "name": "stdout",
          "text": [
            "Vector a:  {'indice': [0, 1, 2, 3, 4, 8, 9, 10, 13, 15], 'value': [3, 4, 5, 1, 2, 3, 10, 12, 3, 14]}\n",
            "Even Vector :  {'indice': [0, 1, 2, 4, 5], 'value': [3, 5, 2, 3, 12]}\n",
            "Odd Vector :  {'indice': [0, 1, 4, 6, 7], 'value': [4, 1, 10, 3, 14]}\n",
            "Sum Vector :  {'indice': [0, 1, 2, 4, 5, 6, 7], 'value': [7, 6, 2, 13, 12, 3, 14]}\n",
            "Minus Vector :  {'indice': [0, 1, 2, 4, 5, 6, 7], 'value': [-1, 4, 2, -7, 12, -3, -14]}\n"
          ]
        }
      ]
    },
    {
      "cell_type": "code",
      "source": [],
      "metadata": {
        "id": "02MazotpS_-W"
      },
      "execution_count": null,
      "outputs": []
    }
  ]
}